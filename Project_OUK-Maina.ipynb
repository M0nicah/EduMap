{
 "cells": [
  {
   "cell_type": "code",
   "execution_count": null,
   "id": "95042187",
   "metadata": {},
   "outputs": [
    {
     "ename": "ModuleNotFoundError",
     "evalue": "No module named 'folium'",
     "output_type": "error",
     "traceback": [
      "\u001b[0;31m---------------------------------------------------------------------------\u001b[0m",
      "\u001b[0;31mModuleNotFoundError\u001b[0m                       Traceback (most recent call last)",
      "Cell \u001b[0;32mIn[2], line 3\u001b[0m\n\u001b[1;32m      1\u001b[0m \u001b[38;5;28;01mimport\u001b[39;00m \u001b[38;5;21;01mpandas\u001b[39;00m \u001b[38;5;28;01mas\u001b[39;00m \u001b[38;5;21;01mpd\u001b[39;00m;\n\u001b[1;32m      2\u001b[0m \u001b[38;5;28;01mimport\u001b[39;00m \u001b[38;5;21;01mnumpy\u001b[39;00m \u001b[38;5;28;01mas\u001b[39;00m \u001b[38;5;21;01mnp\u001b[39;00m;\n\u001b[0;32m----> 3\u001b[0m \u001b[38;5;28;01mimport\u001b[39;00m \u001b[38;5;21;01mfolium\u001b[39;00m;\n\u001b[1;32m      4\u001b[0m \u001b[38;5;28;01mfrom\u001b[39;00m \u001b[38;5;21;01mfolium\u001b[39;00m\u001b[38;5;21;01m.\u001b[39;00m\u001b[38;5;21;01mplugins\u001b[39;00m \u001b[38;5;28;01mimport\u001b[39;00m MarkerCluster, HeatMap;\n\u001b[1;32m      5\u001b[0m \u001b[38;5;28;01mimport\u001b[39;00m \u001b[38;5;21;01mwebbrowser\u001b[39;00m;\n",
      "\u001b[0;31mModuleNotFoundError\u001b[0m: No module named 'folium'"
     ]
    }
   ],
   "source": [
    "import pandas as pd;\n",
    "import numpy as np;\n",
    "import folium;\n",
    "from folium.plugins import MarkerCluster, HeatMap;\n",
    "import webbrowser;\n",
    "\n",
    "desired_columns=['Name_of_Sc', 'Level_', 'Status', 'SchSponsor', 'Type1', 'Type2','Type3', 'PupilTeach', 'ClassrmRat','TotalEnrol','Province', 'District', 'Division','Location', 'Costituenc', 'Latitude', 'Longitude', 'Total Teachers'];\n",
    "df=pd.read_csv(\"C:\\\\Users/HomePC/Downloads/kenya_primary_schools_updated.csv\");\n",
    "df_clean=df[desired_columns];\n",
    "\n",
    "\n",
    "df_clean=df_clean[df_clean['Latitude'].between(-4.7,4.6) & df_clean['Longitude'].between(33.9,41.9)]\n",
    "\n",
    "df_clean['Required_Teachers']=df_clean['TotalEnrol']/40\n",
    "df_clean['Teacher_Gap']=df_clean['Required_Teachers']-df_clean['Total Teachers']\n",
    "df_clean['Teacher_Gap']=df_clean['Teacher_Gap'].apply(lambda x: max(0,x))\n",
    "#Teacher shortage category\n",
    "conditions = [\n",
    "    df_clean['PupilTeach']==0,\n",
    "    df_clean['PupilTeach']<=2,\n",
    "    df_clean['PupilTeach']<=5,\n",
    "    df_clean['PupilTeach']>5\n",
    "]\n",
    "choices=['No shortage','Mild(1-2)','Moderate(3-5)','Severe(5+)']\n",
    "df_clean['Shortage_Level']=np.select(conditions, choices, default='Unknown')\n",
    "\n",
    "constituency_gap=df_clean.groupby('Costituenc').agg(\n",
    "    total_students=('TotalEnrol','sum'),\n",
    "    total_teachers=('Total Teachers','sum'),\n",
    "    total_teacher_gap=('Teacher_Gap','sum'),\n",
    "    school_count=('Name_of_Sc', 'count')\n",
    ").reset_index()\n",
    "constituency_gap['teachers_needed'] = constituency_gap['total_students'] / 40\n",
    "constituency_gap['total_teacher_gap'] = constituency_gap['teachers_needed'] - constituency_gap['total_teachers']\n",
    "\n",
    "map_kenya=folium.Map(location=[-0.0236,37.9062], zoom_start=7, tiles='OpenStreetMap')\n",
    "folium.TileLayer(\n",
    "    tiles='https://{s}.tile.openstreetmap.org/{z}/{x}/{y}.png',\n",
    "    attr='OpenStreetMap',\n",
    "    name='OpenStreetMap'\n",
    ").add_to(map_kenya)\n",
    "\n",
    "color_map={\n",
    "    'No shortage': 'green',\n",
    "    'Mild(1-2)': 'blue',\n",
    "    'Moderate(3-5)': 'orange',\n",
    "    'Severe(5+)': 'red'\n",
    "}\n",
    "\n",
    "\n",
    "#Shortage heatmap\n",
    "heat_data = [[row['Latitude'], row['Longitude'], row['Teacher_Gap']]\n",
    "             for _, row in df_clean[df_clean['Teacher_Gap']>0].iterrows()]\n",
    "HeatMap(heat_data, name='Teacher Shortage Intensity', radius=15, gradient={0.4: 'blue', 0.65: 'lime', 1:'red'}).add_to(map_kenya)\n",
    "\n",
    "#Layer Control\n",
    "folium.LayerControl().add_to(map_kenya)\n",
    "\n",
    "map_kenya.save('Kenya_Teacher_Gap_Map.html')\n",
    "webbrowser.open('Kenya_Teacher_Gap_Map.html')\n"
   ]
  },
  {
   "cell_type": "code",
   "execution_count": null,
   "id": "1294a052",
   "metadata": {},
   "outputs": [],
   "source": []
  }
 ],
 "metadata": {
  "kernelspec": {
   "display_name": "base",
   "language": "python",
   "name": "python3"
  },
  "language_info": {
   "codemirror_mode": {
    "name": "ipython",
    "version": 3
   },
   "file_extension": ".py",
   "mimetype": "text/x-python",
   "name": "python",
   "nbconvert_exporter": "python",
   "pygments_lexer": "ipython3",
   "version": "3.11.7"
  }
 },
 "nbformat": 4,
 "nbformat_minor": 5
}
